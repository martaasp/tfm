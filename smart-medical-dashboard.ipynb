{
 "cells": [
  {
   "cell_type": "code",
   "execution_count": 1,
   "metadata": {},
   "outputs": [],
   "source": [
    "import os\n",
    "import time\n",
    "\n",
    "import functions\n",
    "from mappings import *\n",
    "\n",
    "import numpy as np\n",
    "import pandas as pd\n",
    "\n",
    "from itertools import chain\n",
    "from functools import reduce\n",
    "from datetime import datetime\n",
    "from collections import defaultdict\n",
    "\n",
    "from pyspark.sql import Window, SparkSession, Row\n",
    "from pyspark.sql.types import *\n",
    "from pyspark.sql.functions import *\n",
    "\n",
    "from pyspark.ml import Pipeline\n",
    "from pyspark.ml.feature import OneHotEncoder, StringIndexer, StandardScaler, VectorAssembler\n",
    "from pyspark.ml.classification import LinearSVC, LogisticRegression\n",
    "from pyspark.ml.evaluation import BinaryClassificationEvaluator\n",
    "from pyspark.ml.tuning import CrossValidator, ParamGridBuilder\n",
    "\n",
    "from elasticsearch import Elasticsearch\n",
    "\n",
    "import matplotlib.pyplot as plt\n",
    "import seaborn as sns\n",
    "\n",
    "%matplotlib inline"
   ]
  },
  {
   "cell_type": "markdown",
   "metadata": {},
   "source": [
    "# Initialize Spark\n",
    "\n",
    "We will create our Spark program using **SparkSession** ..."
   ]
  },
  {
   "cell_type": "code",
   "execution_count": 2,
   "metadata": {
    "scrolled": true
   },
   "outputs": [
    {
     "name": "stdout",
     "output_type": "stream",
     "text": [
      "<pyspark.sql.session.SparkSession object at 0x7f4db7abc050>\n",
      "<SparkContext master=yarn appName=my-tfm>\n"
     ]
    }
   ],
   "source": [
    "appName = \"my-tfm\"\n",
    "\n",
    "ss = SparkSession.builder.appName(appName).config(\"spark.some.config.option\", \"4g\").getOrCreate()\n",
    "print(ss)\n",
    "sc = ss.sparkContext\n",
    "print(sc)"
   ]
  },
  {
   "cell_type": "markdown",
   "metadata": {},
   "source": [
    "# Loading\n",
    "\n",
    "We will load the data previously downloaded from its source:\n",
    "\n",
    "* **Historical data:** http://archive.ics.uci.edu/ml/datasets/Diabetes+130-US+hospitals+for+years+1999-2008\n",
    "\n",
    "* **Prediction data:** https://www.kaggle.com/kumargh/pimaindiansdiabetescsv\n",
    "\n",
    "* **Analysis (time-series):** http://archive.ics.uci.edu/ml/datasets/Diabetes"
   ]
  },
  {
   "cell_type": "code",
   "execution_count": 3,
   "metadata": {
    "scrolled": true
   },
   "outputs": [
    {
     "name": "stdout",
     "output_type": "stream",
     "text": [
      "27-08-2020 23:36:58 - Loading diabetic_data.csv file....\n",
      "Loaded 101766 rows and 50 columns\n",
      "+------------+-----------+---------+------+------+------+-----------------+------------------------+-------------------+----------------+----------+--------------------+------------------+--------------+---------------+-----------------+----------------+----------------+------+------+------+----------------+-------------+---------+---------+-----------+-----------+--------------+-----------+-------------+---------+---------+-----------+------------+-------------+--------+--------+------------+----------+-------+-----------+-------+-------------------+-------------------+------------------------+-----------------------+----------------------+------+-----------+----------+\n",
      "|encounter_id|patient_nbr|     race|gender|   age|weight|admission_type_id|discharge_disposition_id|admission_source_id|time_in_hospital|payer_code|   medical_specialty|num_lab_procedures|num_procedures|num_medications|number_outpatient|number_emergency|number_inpatient|diag_1|diag_2|diag_3|number_diagnoses|max_glu_serum|A1Cresult|metformin|repaglinide|nateglinide|chlorpropamide|glimepiride|acetohexamide|glipizide|glyburide|tolbutamide|pioglitazone|rosiglitazone|acarbose|miglitol|troglitazone|tolazamide|examide|citoglipton|insulin|glyburide-metformin|glipizide-metformin|glimepiride-pioglitazone|metformin-rosiglitazone|metformin-pioglitazone|change|diabetesMed|readmitted|\n",
      "+------------+-----------+---------+------+------+------+-----------------+------------------------+-------------------+----------------+----------+--------------------+------------------+--------------+---------------+-----------------+----------------+----------------+------+------+------+----------------+-------------+---------+---------+-----------+-----------+--------------+-----------+-------------+---------+---------+-----------+------------+-------------+--------+--------+------------+----------+-------+-----------+-------+-------------------+-------------------+------------------------+-----------------------+----------------------+------+-----------+----------+\n",
      "|     2278392|    8222157|Caucasian|Female|[0-10)|  null|                6|                      25|                  1|               1|      null|Pediatrics-Endocr...|                41|             0|              1|                0|               0|               0|250.83|  null|  null|               1|         None|     None|       No|         No|         No|            No|         No|           No|       No|       No|         No|          No|           No|      No|      No|          No|        No|     No|         No|     No|                 No|                 No|                      No|                     No|                    No|    No|         No|        NO|\n",
      "+------------+-----------+---------+------+------+------+-----------------+------------------------+-------------------+----------------+----------+--------------------+------------------+--------------+---------------+-----------------+----------------+----------------+------+------+------+----------------+-------------+---------+---------+-----------+-----------+--------------+-----------+-------------+---------+---------+-----------+------------+-------------+--------+--------+------------+----------+-------+-----------+-------+-------------------+-------------------+------------------------+-----------------------+----------------------+------+-----------+----------+\n",
      "only showing top 1 row\n",
      "\n",
      "27-08-2020 23:37:30 - Load completed. This operation has taken 31.85 s\n"
     ]
    }
   ],
   "source": [
    "# Load first dataset (historical data)\n",
    "hist_data = functions.load_data(ss, \"diabetic_data.csv\")"
   ]
  },
  {
   "cell_type": "code",
   "execution_count": 24,
   "metadata": {},
   "outputs": [
    {
     "name": "stdout",
     "output_type": "stream",
     "text": [
      "28-08-2020 00:05:37 - Loading pima-indians-diabetes.csv file....\n",
      "Loaded 768 rows and 9 columns\n",
      "+-----------+-------+-------------+-------------+-------+----+------------------------+---+-----+\n",
      "|Pregnancies|Glucose|BloodPressure|SkinThickness|Insulin| BMI|DiabetesPedigreeFunction|Age|Class|\n",
      "+-----------+-------+-------------+-------------+-------+----+------------------------+---+-----+\n",
      "|          6|    148|           72|           35|      0|33.6|                   0.627| 50|    1|\n",
      "+-----------+-------+-------------+-------------+-------+----+------------------------+---+-----+\n",
      "only showing top 1 row\n",
      "\n",
      "28-08-2020 00:06:06 - Load completed. This operation has taken 28.61 s\n"
     ]
    }
   ],
   "source": [
    "# Load second dataset (prediction data)\n",
    "col_names = ['Pregnancies', 'Glucose', 'BloodPressure', 'SkinThickness',\\\n",
    "            'Insulin', 'BMI', 'DiabetesPedigreeFunction', 'Age', 'Class']\n",
    "pred_data = functions.load_data(ss, \"pima-indians-diabetes.csv\", hdr=False, col_names=col_names)"
   ]
  },
  {
   "cell_type": "code",
   "execution_count": null,
   "metadata": {
    "scrolled": true
   },
   "outputs": [],
   "source": [
    "# Load third dataset (analysis data)\n",
    "an_data = functions.load_ts(sc, 70, 'data') # the function load_ts already imputes missing values when loading the file"
   ]
  },
  {
   "cell_type": "markdown",
   "metadata": {},
   "source": [
    "# Preprocessing"
   ]
  },
  {
   "cell_type": "markdown",
   "metadata": {},
   "source": [
    "### Historical data"
   ]
  },
  {
   "cell_type": "markdown",
   "metadata": {},
   "source": [
    "Remove the rows and columns with more than 30% of missing values and replace the rest with the mode of the column."
   ]
  },
  {
   "cell_type": "code",
   "execution_count": 4,
   "metadata": {
    "scrolled": true
   },
   "outputs": [
    {
     "name": "stdout",
     "output_type": "stream",
     "text": [
      "\n",
      "27-08-2020 23:37:30 - Working with missing values...\n",
      "Removing rows with more than 30% of missing data...\n",
      "0 rows removed\n",
      "\n",
      "Showing columns with missing values: \n",
      "                   count  density\n",
      "race                2273     0.02\n",
      "weight             98569     0.97\n",
      "payer_code         40256     0.40\n",
      "medical_specialty  49949     0.49\n",
      "diag_1                21     0.00\n",
      "diag_2               358     0.00\n",
      "diag_3              1423     0.01\n",
      "\n",
      "Removing rows with more than 30% of missing data (weight, payer_code, medical_specialty) ...\n",
      "\n",
      "27-08-2020 23:39:51 - Columns removed. \n",
      "New shape: (101766 rows x 47 columns)\n",
      "\n",
      "27-08-2020 23:39:53 - Replacing missing values...\n",
      "Replacing NAs values of attribute race by value Caucasian\n",
      "Replacing NAs values of attribute diag_1 by value 428\n",
      "Replacing NAs values of attribute diag_2 by value 276\n",
      "Replacing NAs values of attribute diag_3 by value 250\n",
      "\n",
      "27-08-2020 23:40:44 - Missing values removed.  This operation has taken 194.08 s\n"
     ]
    }
   ],
   "source": [
    "hist_data = functions.impute_na(hist_data)"
   ]
  },
  {
   "cell_type": "markdown",
   "metadata": {},
   "source": [
    "Cast IDs with numbers to String."
   ]
  },
  {
   "cell_type": "code",
   "execution_count": 5,
   "metadata": {
    "scrolled": true
   },
   "outputs": [
    {
     "name": "stdout",
     "output_type": "stream",
     "text": [
      "root\n",
      " |-- encounter_id: string (nullable = true)\n",
      " |-- patient_nbr: string (nullable = true)\n",
      " |-- race: string (nullable = false)\n",
      " |-- gender: string (nullable = true)\n",
      " |-- age: string (nullable = true)\n",
      " |-- admission_type_id: string (nullable = true)\n",
      " |-- discharge_disposition_id: string (nullable = true)\n",
      " |-- admission_source_id: string (nullable = true)\n",
      " |-- time_in_hospital: integer (nullable = true)\n",
      " |-- num_lab_procedures: integer (nullable = true)\n",
      " |-- num_procedures: integer (nullable = true)\n",
      " |-- num_medications: integer (nullable = true)\n",
      " |-- number_outpatient: integer (nullable = true)\n",
      " |-- number_emergency: integer (nullable = true)\n",
      " |-- number_inpatient: integer (nullable = true)\n",
      " |-- diag_1: string (nullable = false)\n",
      " |-- diag_2: string (nullable = false)\n",
      " |-- diag_3: string (nullable = false)\n",
      " |-- number_diagnoses: integer (nullable = true)\n",
      " |-- max_glu_serum: string (nullable = true)\n",
      " |-- A1Cresult: string (nullable = true)\n",
      " |-- metformin: string (nullable = true)\n",
      " |-- repaglinide: string (nullable = true)\n",
      " |-- nateglinide: string (nullable = true)\n",
      " |-- chlorpropamide: string (nullable = true)\n",
      " |-- glimepiride: string (nullable = true)\n",
      " |-- acetohexamide: string (nullable = true)\n",
      " |-- glipizide: string (nullable = true)\n",
      " |-- glyburide: string (nullable = true)\n",
      " |-- tolbutamide: string (nullable = true)\n",
      " |-- pioglitazone: string (nullable = true)\n",
      " |-- rosiglitazone: string (nullable = true)\n",
      " |-- acarbose: string (nullable = true)\n",
      " |-- miglitol: string (nullable = true)\n",
      " |-- troglitazone: string (nullable = true)\n",
      " |-- tolazamide: string (nullable = true)\n",
      " |-- examide: string (nullable = true)\n",
      " |-- citoglipton: string (nullable = true)\n",
      " |-- insulin: string (nullable = true)\n",
      " |-- glyburide-metformin: string (nullable = true)\n",
      " |-- glipizide-metformin: string (nullable = true)\n",
      " |-- glimepiride-pioglitazone: string (nullable = true)\n",
      " |-- metformin-rosiglitazone: string (nullable = true)\n",
      " |-- metformin-pioglitazone: string (nullable = true)\n",
      " |-- change: string (nullable = true)\n",
      " |-- diabetesMed: string (nullable = true)\n",
      " |-- readmitted: string (nullable = true)\n",
      "\n"
     ]
    }
   ],
   "source": [
    "hist_data = hist_data.withColumn(\"encounter_id\",hist_data[\"encounter_id\"].cast(StringType())) \\\n",
    "                    .withColumn(\"discharge_disposition_id\",hist_data[\"discharge_disposition_id\"].cast(StringType())) \\\n",
    "                    .withColumn(\"admission_source_id\",hist_data[\"admission_source_id\"].cast(StringType())) \\\n",
    "                    .withColumn(\"admission_type_id\",hist_data[\"admission_type_id\"].cast(StringType())) \\\n",
    "                    .withColumn(\"patient_nbr\",hist_data[\"patient_nbr\"].cast(StringType()))\n",
    "\n",
    "hist_data.printSchema()"
   ]
  },
  {
   "cell_type": "markdown",
   "metadata": {},
   "source": [
    "Explore the data"
   ]
  },
  {
   "cell_type": "code",
   "execution_count": 15,
   "metadata": {},
   "outputs": [
    {
     "name": "stdout",
     "output_type": "stream",
     "text": [
      "Number of categorical variables: 39\t Percentage: 82.98%\n",
      "Number of numerical variables: 8\t Percentage: 17.02%\n"
     ]
    },
    {
     "data": {
      "image/png": "[encoded data removed]",
      "text/plain": [
       "<Figure size 432x288 with 1 Axes>"
      ]
     },
     "metadata": {},
     "output_type": "display_data"
    }
   ],
   "source": [
    "data_types = defaultdict(list)\n",
    "for entry in hist_data.schema.fields:\n",
    "     data_types[str(entry.dataType)].append(entry.name)\n",
    "        \n",
    "categorical_variables = len(data_types[\"StringType\"])\n",
    "categorical_var_size =100*(categorical_variables/len(hist_data.columns))\n",
    "print(\"Number of categorical variables: {}\\t Percentage: {:.2f}%\". format(categorical_variables, categorical_var_size))\n",
    "\n",
    "numerical_variables = len(data_types[\"IntegerType\"])\n",
    "numerical_var_size = 100*(numerical_variables/len(hist_data.columns))\n",
    "print(\"Number of numerical variables: {}\\t Percentage: {:.2f}%\". format(numerical_variables, numerical_var_size))\n",
    "\n",
    "fig1, ax1 = plt.subplots()\n",
    "sizes = [categorical_var_size, numerical_var_size]\n",
    "explode=[0,0]\n",
    "labels=['Qualitative', 'Quantitative']\n",
    "ax1.pie(sizes, explode=explode, labels=labels, autopct='%1.1f%%', shadow=True, startangle=90)\n",
    "ax1.axis('equal')  # Equal aspect ratio ensures that pie is drawn as a circle.\n",
    "ax1.set_title(\"Historical data\")\n",
    "\n",
    "plt.show()"
   ]
  },
  {
   "cell_type": "code",
   "execution_count": 22,
   "metadata": {},
   "outputs": [
    {
     "data": {
      "text/plain": [
       "Text(0.5, 1.0, 'Gender')"
      ]
     },
     "execution_count": 22,
     "metadata": {},
     "output_type": "execute_result"
    },
    {
     "data": {
      "image/png": "[encoded data removed]",
      "text/plain": [
       "<Figure size 1440x504 with 2 Axes>"
      ]
     },
     "metadata": {
      "needs_background": "light"
     },
     "output_type": "display_data"
    }
   ],
   "source": [
    "fig1, ax1 = plt.subplots(1,2,figsize=(20,7))\n",
    "\n",
    "aux = hist_data.select(\"Age\").toPandas()\n",
    "ax1[0].bar(aux[\"Age\"].unique(), aux[\"Age\"].value_counts()/hist_data.count())\n",
    "ax1[0].set_title(\"Age\")\n",
    "\n",
    "aux = hist_data.select(\"gender\").toPandas()\n",
    "ax1[1].bar(aux[\"gender\"].unique(), aux[\"gender\"].value_counts()/hist_data.count(), color=\"orange\")\n",
    "ax1[1].set_title(\"Gender\")"
   ]
  },
  {
   "cell_type": "code",
   "execution_count": 23,
   "metadata": {},
   "outputs": [
    {
     "data": {
      "text/plain": [
       "Text(0.5, 1.0, 'Patients readmitted')"
      ]
     },
     "execution_count": 23,
     "metadata": {},
     "output_type": "execute_result"
    },
    {
     "data": {
      "image/png": "[encoded data removed]",
      "text/plain": [
       "<Figure size 1440x504 with 2 Axes>"
      ]
     },
     "metadata": {
      "needs_background": "light"
     },
     "output_type": "display_data"
    }
   ],
   "source": [
    "fig1, ax1 = plt.subplots(1,2,figsize=(20,7))\n",
    "\n",
    "aux = hist_data.select(\"diabetesMed\").toPandas()\n",
    "ax1[0].bar(aux[\"diabetesMed\"].unique(), aux[\"diabetesMed\"].value_counts()/hist_data.count())\n",
    "ax1[0].set_title(\"Diabetes medication prescribed\")\n",
    "\n",
    "aux = hist_data.select(\"readmitted\").toPandas()\n",
    "ax1[1].bar(aux[\"readmitted\"].unique(), aux[\"readmitted\"].value_counts()/hist_data.count(), color=\"orange\")\n",
    "ax1[1].set_title(\"Patients readmitted\")"
   ]
  },
  {
   "cell_type": "code",
   "execution_count": null,
   "metadata": {
    "scrolled": true
   },
   "outputs": [],
   "source": [
    "fig, ax = plt.subplots(categorical_variables-2,1, figsize=(7,90))\n",
    "\n",
    "for i, categorical_variable in enumerate(data_types[\"StringType\"][2:]):\n",
    "    aux = hist_data.select(categorical_variable).toPandas()\n",
    "    ax[i].bar(aux[categorical_variable].unique(), aux[categorical_variable].value_counts()/hist_data.count())\n",
    "    ax[i].set_title(categorical_variable)"
   ]
  },
  {
   "cell_type": "code",
   "execution_count": null,
   "metadata": {},
   "outputs": [],
   "source": [
    "fig, ax = plt.subplots(categorical_variables-2,1, figsize=(7,90))\n",
    "\n",
    "for i, categorical_variable in enumerate(data_types[\"StringType\"][2:]):\n",
    "    aux = hist_data.select(categorical_variable).toPandas()\n",
    "    ax[i].bar(aux[categorical_variable].unique(), aux[categorical_variable].value_counts()/hist_data.count())\n",
    "    ax[i].set_title(categorical_variable)"
   ]
  },
  {
   "cell_type": "code",
   "execution_count": null,
   "metadata": {
    "scrolled": true
   },
   "outputs": [],
   "source": [
    "for numerical_variable in data_types[\"IntegerType\"]:\n",
    "    df = hist_data.select(numerical_variable).toPandas()\n",
    " \n",
    "    # Cut the window in 2 parts\n",
    "    f, (ax_box, ax_hist) = plt.subplots(2, sharex=True, gridspec_kw={\"height_ratios\": (.15, .85)})\n",
    " \n",
    "    # Add a graph in each part\n",
    "    sns.boxplot(df[numerical_variable], ax=ax_box)\n",
    "    sns.distplot(df[numerical_variable], ax=ax_hist)\n",
    " \n",
    "    # Remove x axis name for the boxplot\n",
    "    ax_box.set(xlabel='')"
   ]
  },
  {
   "cell_type": "code",
   "execution_count": null,
   "metadata": {},
   "outputs": [],
   "source": [
    "aux = hist_data.select(\"time_in_hospital\").toPandas()\n",
    "plt.hist(aux)"
   ]
  },
  {
   "cell_type": "markdown",
   "metadata": {},
   "source": [
    "Filter the columns to be used in the machine learning model in a new variable. "
   ]
  },
  {
   "cell_type": "code",
   "execution_count": null,
   "metadata": {},
   "outputs": [],
   "source": [
    "columns_to_drop = ['encounter_id', 'race', 'age', 'payer_code', 'medical_specialty']\n",
    "hist_data_aux = hist_data.drop(*columns_to_drop)\n",
    "\n",
    "hist_data_aux = hist_data_aux.select(['metformin', 'repaglinide', 'nateglinide', 'chlorpropamide', 'glimepiride', 'acetohexamide', \n",
    "                                 'glipizide', 'glyburide', 'tolbutamide', 'pioglitazone', 'rosiglitazone', 'acarbose', \n",
    "                                  'miglitol', 'troglitazone', 'tolazamide', 'examide', 'citoglipton', 'insulin', 'glyburide-metformin',\n",
    "                                 'glipizide-metformin', 'glimepiride-pioglitazone', 'readmitted'])"
   ]
  },
  {
   "cell_type": "code",
   "execution_count": null,
   "metadata": {},
   "outputs": [],
   "source": [
    "fig, ax = plt.subplots(categorical_variables-2,1, figsize=(7,90))\n",
    "\n",
    "for i, categorical_variable in enumerate(data_types[\"StringType\"][2:]):\n",
    "    aux = hist_data.select(categorical_variable).toPandas()\n",
    "    ax[i].bar(aux[categorical_variable].unique(), aux[categorical_variable].value_counts())\n",
    "    ax[i].set_title(categorical_variable)"
   ]
  },
  {
   "cell_type": "markdown",
   "metadata": {},
   "source": [
    "Map the necessary variables"
   ]
  },
  {
   "cell_type": "code",
   "execution_count": null,
   "metadata": {},
   "outputs": [],
   "source": [
    "## New dataset: transform to binary class\n",
    "mapping_expr = create_map([lit(x) for x in chain(*readmitted_mapping.items())])\n",
    "hist_data_aux = hist_data_aux.withColumn(\"readmitted\", mapping_expr.getItem(col(\"readmitted\"))) \n",
    "\n",
    "## Final dataset: admission type\n",
    "mapping_expr = create_map([lit(x) for x in chain(*admission_type_id_mapping.items())])\n",
    "hist_data = hist_data.withColumn(\"admission_type_id\", mapping_expr.getItem(col(\"admission_type_id\")))\n",
    "\n",
    "## Final dataset: \n",
    "mapping_expr = create_map([lit(x) for x in chain(*discharge_disposition_id_mapping.items())])\n",
    "hist_data = hist_data.withColumn(\"discharge_disposition_id\", mapping_expr.getItem(col(\"discharge_disposition_id\")))\n",
    "\n",
    "## Final dataset: \n",
    "mapping_expr = create_map([lit(x) for x in chain(*admission_source_id_mapping.items())])\n",
    "hist_data = hist_data.withColumn(\"admission_source_id\", mapping_expr.getItem(col(\"admission_source_id\")))\n",
    "\n",
    "## Final dataset: \n",
    "mapping_expr = create_map([lit(x) for x in chain(*meds_mapping.items())])\n",
    "hist_data = hist_data.withColumn(\"metformin\", mapping_expr.getItem(col(\"metformin\"))) \\\n",
    "                    .withColumn(\"repaglinide\", mapping_expr.getItem(col(\"repaglinide\"))) \\\n",
    "                    .withColumn(\"nateglinide\", mapping_expr.getItem(col(\"nateglinide\"))) \\\n",
    "                    .withColumn(\"chlorpropamide\", mapping_expr.getItem(col(\"chlorpropamide\"))) \\\n",
    "                    .withColumn(\"glimepiride\", mapping_expr.getItem(col(\"glimepiride\"))) \\\n",
    "                    .withColumn(\"acetohexamide\", mapping_expr.getItem(col(\"acetohexamide\"))) \\\n",
    "                    .withColumn(\"glipizide\", mapping_expr.getItem(col(\"glipizide\"))) \\\n",
    "                    .withColumn(\"glyburide\", mapping_expr.getItem(col(\"glyburide\"))) \\\n",
    "                    .withColumn(\"tolbutamide\", mapping_expr.getItem(col(\"tolbutamide\"))) \\\n",
    "                    .withColumn(\"pioglitazone\", mapping_expr.getItem(col(\"pioglitazone\"))) \\\n",
    "                    .withColumn(\"rosiglitazone\", mapping_expr.getItem(col(\"rosiglitazone\"))) \\\n",
    "                    .withColumn(\"acarbose\", mapping_expr.getItem(col(\"acarbose\"))) \\\n",
    "                    .withColumn(\"miglitol\", mapping_expr.getItem(col(\"miglitol\"))) \\\n",
    "                    .withColumn(\"troglitazone\", mapping_expr.getItem(col(\"troglitazone\"))) \\\n",
    "                    .withColumn(\"tolazamide\", mapping_expr.getItem(col(\"tolazamide\"))) \\\n",
    "                    .withColumn(\"examide\", mapping_expr.getItem(col(\"examide\"))) \\\n",
    "                    .withColumn(\"citoglipton\", mapping_expr.getItem(col(\"citoglipton\"))) \\\n",
    "                    .withColumn(\"insulin\", mapping_expr.getItem(col(\"insulin\"))) \\\n",
    "                    .withColumn(\"glyburide-metformin\", mapping_expr.getItem(col(\"glyburide-metformin\"))) \\\n",
    "                    .withColumn(\"glipizide-metformin\", mapping_expr.getItem(col(\"glipizide-metformin\"))) \\\n",
    "                    .withColumn(\"glimepiride-pioglitazone\", mapping_expr.getItem(col(\"glimepiride-pioglitazone\"))) \\\n",
    "                    .withColumn(\"metformin-rosiglitazone\", mapping_expr.getItem(col(\"metformin-rosiglitazone\"))) \\\n",
    "                    .withColumn(\"metformin-pioglitazone\", mapping_expr.getItem(col(\"metformin-pioglitazone\")))\n",
    "\n",
    "## Final dataset: \n",
    "mapping_expr = create_map([lit(x) for x in chain(*change_mapping.items())])\n",
    "hist_data = hist_data.withColumn(\"change\", mapping_expr.getItem(col(\"change\")))\n",
    "\n",
    "## Final dataset: \n",
    "mapping_expr = create_map([lit(x) for x in chain(*diabetesMed_mapping.items())])\n",
    "hist_data = hist_data.withColumn(\"diabetesMed\", mapping_expr.getItem(col(\"diabetesMed\")))\n",
    "\n",
    "## Final dataset: \n",
    "mapping_expr = create_map([lit(x) for x in chain(*readmitted_mapping.items())])\n",
    "hist_data = hist_data.withColumn(\"readmitted\", mapping_expr.getItem(col(\"readmitted\"))) \\\n",
    "                        .withColumnRenamed(\"readmitted\", \"readmitted_trunc\")\n",
    "\n",
    "## Final dataset: diagnostics \n",
    "hist_data = hist_data.withColumn(\"diag_1\", translate(col(\"diag_1\"), \".\", \"\")) \\\n",
    "                     .withColumn(\"diag_2\", translate(col(\"diag_2\"), \".\", \"\")) \\\n",
    "                     .withColumn(\"diag_3\", translate(col(\"diag_3\"), \".\", \"\"))\n",
    "\n",
    "df = ss.read.load(\"tfm-marta/data/CMS30_DESC_LONG_DX.csv\", format=\"csv\", sep=\";\", inferSchema=True)\n",
    "diag_mapping = df.toPandas().set_index('_c0').to_dict()['_c1']\n",
    "diag_mapping\n",
    "\n",
    "mapping_expr = create_map([lit(x) for x in chain(*diag_mapping.items())])\n",
    "hist_data = hist_data.withColumn(\"diag_1\", mapping_expr.getItem(col(\"diag_1\"))) \\\n",
    "                     .withColumn(\"diag_2\", mapping_expr.getItem(col(\"diag_2\"))) \\\n",
    "                     .withColumn(\"diag_3\", mapping_expr.getItem(col(\"diag_3\")))\n",
    "\n",
    "## Final dataset: add new column: date\n",
    "hist_data = hist_data.withColumn('date', lit(datetime.now().strftime(\"%d-%m-%Y\")))\n",
    "hist_data = hist_data.withColumn('date', to_timestamp(unix_timestamp(hist_data.date, 'MM-dd-yyyy')))"
   ]
  },
  {
   "cell_type": "markdown",
   "metadata": {},
   "source": [
    "Transform categorical variables with more than 1 category using One-hot-encoding"
   ]
  },
  {
   "cell_type": "code",
   "execution_count": null,
   "metadata": {},
   "outputs": [],
   "source": [
    "## count number of categories of each categorical variable\n",
    "data_types = defaultdict(list)\n",
    "for entry in hist_data_aux.schema.fields:\n",
    "     data_types[str(entry.dataType)].append(entry.name)\n",
    "\n",
    "counts_summary = hist_data_aux.agg(*[countDistinct(c).alias(c) for c in data_types[\"StringType\"]])\n",
    "counts_summary = counts_summary.toPandas()\n",
    "\n",
    "counts = pd.Series(counts_summary.values.ravel())\n",
    "counts.index = counts_summary.columns\n",
    "\n",
    "sorted_vars = counts.sort_values(ascending = False) # number of categories of each variable\n",
    "ignore = list((sorted_vars[sorted_vars <=1]).index) # variables with less than 1 category\n",
    "# We'll ignore the categorical variables with only 1 category\n",
    "\n",
    "strings_used = [var for var in data_types[\"StringType\"] if var not in ignore]\n",
    "stage_string = [StringIndexer(inputCol= c, outputCol= c+\"_string_encoded\") for c in strings_used]\n",
    "stage_one_hot = [OneHotEncoder(inputCol= c+\"_string_encoded\", outputCol= c+ \"_one_hot\") for c in strings_used]\n",
    "\n",
    "ppl = Pipeline(stages= stage_string + stage_one_hot)\n",
    "hist_data_trunc = ppl.fit(hist_data_aux).transform(hist_data_aux)"
   ]
  },
  {
   "cell_type": "markdown",
   "metadata": {},
   "source": [
    "Combine all the features into a single vector for each observation"
   ]
  },
  {
   "cell_type": "code",
   "execution_count": null,
   "metadata": {},
   "outputs": [],
   "source": [
    "features = data_types[\"IntegerType\"] + [var + \"_one_hot\" for var in strings_used]\n",
    "hist_data_trunc = VectorAssembler(inputCols = [x for x in features if x not in 'readmitted'], outputCol= \"features\")\\\n",
    "                .transform(hist_data_trunc).select(['readmitted', 'features'])"
   ]
  },
  {
   "cell_type": "markdown",
   "metadata": {},
   "source": [
    "Split data into training, validation and test sets"
   ]
  },
  {
   "cell_type": "code",
   "execution_count": null,
   "metadata": {},
   "outputs": [],
   "source": [
    "## Split data into train, validation and test\n",
    "train_histC_trunc, test_hist_trunc = functions.df_split(hist_data_trunc, 0.7)\n",
    "train_hist_trunc, val_hist_trunc = functions.df_split(train_histC_trunc, 0.7)\n",
    "\n",
    "## Split data into X and Y coordinates\n",
    "train_hist_trunc, val_hist_trunc =  functions.df_split(train_histC_trunc, 0.7)\n",
    "\n",
    "print(\"train_hist: {0} x {1}\\t val_hist: {2} x {3}\\t test_hist: {4} x {5}\"\\\n",
    "      .format(train_hist_trunc.count(), len(train_hist_trunc.columns),\n",
    "              val_hist_trunc.count(), len(val_hist_trunc.columns),\n",
    "              test_hist_trunc.count(), len(test_hist_trunc.columns)))"
   ]
  },
  {
   "cell_type": "markdown",
   "metadata": {},
   "source": [
    "### Prediction data"
   ]
  },
  {
   "cell_type": "markdown",
   "metadata": {},
   "source": [
    "Remove the rows and columns with more than 30% of missing values and replace the rest with the mode of the column."
   ]
  },
  {
   "cell_type": "code",
   "execution_count": 25,
   "metadata": {},
   "outputs": [
    {
     "name": "stdout",
     "output_type": "stream",
     "text": [
      "\n",
      "28-08-2020 00:06:06 - Working with missing values...\n",
      "Removing rows with more than 30% of missing data...\n",
      "0 rows removed\n",
      "\n",
      "Showing columns with missing values: \n",
      "Empty DataFrame\n",
      "Columns: [count, density]\n",
      "Index: []\n",
      "\n",
      "Removing rows with more than 30% of missing data () ...\n",
      "\n",
      "28-08-2020 00:09:03 - Columns removed. \n",
      "New shape: (768 rows x 9 columns)\n",
      "\n",
      "28-08-2020 00:09:04 - Replacing missing values...\n",
      "\n",
      "28-08-2020 00:09:34 - Missing values removed.  This operation has taken 207.73 s\n",
      "root\n",
      " |-- Pregnancies: integer (nullable = true)\n",
      " |-- Glucose: integer (nullable = true)\n",
      " |-- BloodPressure: integer (nullable = true)\n",
      " |-- SkinThickness: integer (nullable = true)\n",
      " |-- Insulin: integer (nullable = true)\n",
      " |-- BMI: double (nullable = true)\n",
      " |-- DiabetesPedigreeFunction: double (nullable = true)\n",
      " |-- Age: integer (nullable = true)\n",
      " |-- Class: integer (nullable = true)\n",
      "\n"
     ]
    }
   ],
   "source": [
    "pred_data = functions.impute_na(pred_data)\n",
    "pred_data.printSchema()"
   ]
  },
  {
   "cell_type": "code",
   "execution_count": 26,
   "metadata": {},
   "outputs": [
    {
     "name": "stdout",
     "output_type": "stream",
     "text": [
      "Number of categorical variables: 0\t Percentage: 0.00%\n",
      "Number of numerical variables: 9\t Percentage: 100.00%\n"
     ]
    },
    {
     "data": {
      "image/png": "[encoded data removed]",
      "text/plain": [
       "<Figure size 432x288 with 1 Axes>"
      ]
     },
     "metadata": {},
     "output_type": "display_data"
    }
   ],
   "source": [
    "data_types = defaultdict(list)\n",
    "for entry in pred_data.schema.fields:\n",
    "     data_types[str(entry.dataType)].append(entry.name)\n",
    "        \n",
    "categorical_variables = len(data_types[\"StringType\"])\n",
    "categorical_var_size =100*(categorical_variables/len(pred_data.columns))\n",
    "print(\"Number of categorical variables: {}\\t Percentage: {:.2f}%\". format(categorical_variables, categorical_var_size))\n",
    "\n",
    "numerical_variables = len(data_types[\"IntegerType\"])+len(data_types[\"DoubleType\"])\n",
    "numerical_var_size = 100*(numerical_variables/len(pred_data.columns))\n",
    "print(\"Number of numerical variables: {}\\t Percentage: {:.2f}%\". format(numerical_variables, numerical_var_size))\n",
    "\n",
    "fig1, ax1 = plt.subplots()\n",
    "sizes = [categorical_var_size, numerical_var_size]\n",
    "explode=[0,0]\n",
    "labels=['Qualitative', 'Quantitative']\n",
    "ax1.pie(sizes, explode=explode, labels=labels, autopct='%1.1f%%', shadow=True, startangle=90)\n",
    "ax1.axis('equal')  # Equal aspect ratio ensures that pie is drawn as a circle.\n",
    "ax1.set_title(\"Prediction data\")\n",
    "plt.show()"
   ]
  },
  {
   "cell_type": "code",
   "execution_count": 30,
   "metadata": {},
   "outputs": [
    {
     "data": {
      "text/plain": [
       "Text(0.5, 1.0, 'Onset of diabetes within 5 years')"
      ]
     },
     "execution_count": 30,
     "metadata": {},
     "output_type": "execute_result"
    },
    {
     "data": {
      "image/png": "[encoded data removed]",
      "text/plain": [
       "<Figure size 432x288 with 1 Axes>"
      ]
     },
     "metadata": {
      "needs_background": "light"
     },
     "output_type": "display_data"
    }
   ],
   "source": [
    "aux = pred_data.select(\"Class\").toPandas()\n",
    "plt.bar(aux[\"Class\"].unique(), aux[\"Class\"].value_counts()/pred_data.count(), color=\"orange\")\n",
    "plt.title(\"Onset of diabetes within 5 years\")"
   ]
  },
  {
   "cell_type": "code",
   "execution_count": null,
   "metadata": {
    "scrolled": false
   },
   "outputs": [],
   "source": [
    "for pred_data_variable in pred_data.columns:\n",
    "    df = pred_data.select(pred_data_variable).toPandas()\n",
    " \n",
    "    # Cut the window in 2 parts\n",
    "    f, (ax_box, ax_hist) = plt.subplots(2, sharex=True, gridspec_kw={\"height_ratios\": (.15, .85)})\n",
    " \n",
    "    # Add a graph in each part\n",
    "    sns.boxplot(df[pred_data_variable], ax=ax_box)\n",
    "    sns.distplot(df[pred_data_variable], ax=ax_hist)\n",
    " \n",
    "    # Remove x axis name for the boxplot\n",
    "    ax_box.set(xlabel='')"
   ]
  },
  {
   "cell_type": "markdown",
   "metadata": {},
   "source": [
    "Split the dataset into validation (21%), training (49%) and test (30%)"
   ]
  },
  {
   "cell_type": "code",
   "execution_count": null,
   "metadata": {},
   "outputs": [],
   "source": [
    "## Split data into train, validation and test\n",
    "train_predC, test_pred = functions.df_split(pred_data, 0.7)\n",
    "train_pred, val_pred = functions.df_split(train_predC, 0.7)\n",
    "\n",
    "## Split data into X and Y coordinates\n",
    "Xtrain_pred, ytrain_pred = train_pred.select(train_pred.columns[0:len(train_pred.columns)-1]), train_pred.select('Class')\n",
    "Xval_pred, yval_pred =  val_pred.select(val_pred.columns[0:len(val_pred.columns)-1]), val_pred.select('Class')\n",
    "Xtest_pred, ytest_pred = test_pred.select(test_pred.columns[0:len(test_pred.columns)-1]), test_pred.select('Class')\n",
    "\n",
    "print(\"Xtrain_pred: {0} x {1}\\t ytrain_pred: {2} x {3}\".format(Xtrain_pred.count(), len(Xtrain_pred.columns),\n",
    "                                                              ytrain_pred.count(), len(ytrain_pred.columns)))\n",
    "print(\"Xval_pred: {0} x {1}\\t yval_pred: {2} x {3}\".format(Xval_pred.count(), len(Xval_pred.columns),\n",
    "                                                              yval_pred.count(), len(yval_pred.columns)))\n",
    "print(\"Xtest_pred: {0} x {1}\\t ytest_pred: {2} x {3}\".format(Xtest_pred.count(), len(Xtest_pred.columns),\n",
    "                                                              ytest_pred.count(), len(ytest_pred.columns)))"
   ]
  },
  {
   "cell_type": "markdown",
   "metadata": {},
   "source": [
    "Combine all the features into a single vector for each observation"
   ]
  },
  {
   "cell_type": "code",
   "execution_count": null,
   "metadata": {},
   "outputs": [],
   "source": [
    "# Put together all the input attributes.\n",
    "assembler = VectorAssembler(inputCols=[x for x in train_predC.columns if x not in 'Class'], outputCol='features')\n",
    "\n",
    "train_predC_trunc = assembler.transform(train_predC).select(['Class', 'features'])\n",
    "train_pred_trunc = assembler.transform(train_pred).select(['Class', 'features'])\n",
    "val_pred_trunc = assembler.transform(val_pred).select(['Class', 'features'])\n",
    "test_pred_trunc = assembler.transform(test_pred).select(['Class', 'features'])"
   ]
  },
  {
   "cell_type": "markdown",
   "metadata": {},
   "source": [
    "Add columns: date and patient number"
   ]
  },
  {
   "cell_type": "code",
   "execution_count": null,
   "metadata": {},
   "outputs": [],
   "source": [
    "pred_data = pred_data.withColumn(\"new_column\",lit(\"ABC\"))\n",
    "w = Window().partitionBy('new_column').orderBy(lit('A'))\n",
    "pred_data = pred_data.withColumn(\"patient_nbr\", 50125+row_number().over(w)).drop(\"new_column\")\n",
    "pred_data = pred_data.withColumn(\"patient_nbr\",pred_data[\"patient_nbr\"].cast(StringType()))\n",
    "pred_data = pred_data.withColumn('date', lit(datetime.now().strftime(\"%d-%m-%Y\")))\n",
    "pred_data = pred_data.withColumn('date', to_timestamp(unix_timestamp(pred_data.date, 'MM-dd-yyyy')))"
   ]
  },
  {
   "cell_type": "markdown",
   "metadata": {},
   "source": [
    "###  Analytical data"
   ]
  },
  {
   "cell_type": "code",
   "execution_count": null,
   "metadata": {},
   "outputs": [],
   "source": [
    "an_data.printSchema()"
   ]
  },
  {
   "cell_type": "code",
   "execution_count": null,
   "metadata": {},
   "outputs": [],
   "source": [
    "data_types = defaultdict(list)\n",
    "for entry in an_data.schema.fields:\n",
    "     data_types[str(entry.dataType)].append(entry.name)\n",
    "        \n",
    "categorical_variables = len(data_types[\"StringType\"])+len(data_types[\"TimestampType\"])\n",
    "categorical_var_size =100*(categorical_variables/len(an_data.columns))\n",
    "print(\"Number of categorical variables: {}\\t Percentage: {:.2f}%\". format(categorical_variables, categorical_var_size))\n",
    "\n",
    "numerical_variables = len(data_types[\"IntegerType\"])+len(data_types[\"DoubleType\"])\n",
    "numerical_var_size = 100*(numerical_variables/len(an_data.columns))\n",
    "print(\"Number of numerical variables: {}\\t Percentage: {:.2f}%\". format(numerical_variables, numerical_var_size))\n",
    "\n",
    "fig1, ax1 = plt.subplots()\n",
    "sizes = [categorical_var_size, numerical_var_size]\n",
    "explode=[0,0]\n",
    "labels=['Qualitative', 'Quantitative']\n",
    "ax1.pie(sizes, explode=explode, labels=labels, autopct='%1.1f%%', shadow=True, startangle=90)\n",
    "ax1.axis('equal')  # Equal aspect ratio ensures that pie is drawn as a circle.\n",
    "ax1.set_title(\"Analysis data\")\n",
    "plt.show()"
   ]
  },
  {
   "cell_type": "code",
   "execution_count": null,
   "metadata": {
    "scrolled": false
   },
   "outputs": [],
   "source": [
    "fig, ax = plt.subplots(categorical_variables,1, figsize=(7,20))\n",
    "\n",
    "for i, categorical_variable in enumerate(data_types[\"StringType\"]):\n",
    "    aux = an_data.select(categorical_variable).toPandas()\n",
    "    ax[i].bar(aux[categorical_variable].unique(), aux[categorical_variable].value_counts())\n",
    "    ax[i].set_title(categorical_variable)"
   ]
  },
  {
   "cell_type": "code",
   "execution_count": null,
   "metadata": {
    "scrolled": true
   },
   "outputs": [],
   "source": [
    "an_data = an_data.withColumn(\"value\",an_data[\"value\"].cast(IntegerType())) \n",
    "\n",
    "\n",
    "mapping_expr = create_map([lit(x) for x in chain(*mapping.items())])\n",
    "an_data = an_data.withColumn(\"code\", mapping_expr.getItem(col(\"code\"))) \\\n",
    "                 .withColumn(\"patient_nbr\",an_data[\"patient_nbr\"].cast(StringType())) \\\n",
    "                 .withColumn('date', an_data.date + expr('INTERVAL 29 years'))\n",
    "an_data.printSchema()\n",
    "an_data.show()"
   ]
  },
  {
   "cell_type": "markdown",
   "metadata": {},
   "source": [
    "# Analyzing and predicting the data"
   ]
  },
  {
   "cell_type": "markdown",
   "metadata": {},
   "source": [
    "### Historical data"
   ]
  },
  {
   "cell_type": "markdown",
   "metadata": {},
   "source": [
    "Explore the data"
   ]
  },
  {
   "cell_type": "code",
   "execution_count": null,
   "metadata": {
    "scrolled": false
   },
   "outputs": [],
   "source": [
    "data_types = defaultdict(list)\n",
    "for entry in hist_data_aux.schema.fields:\n",
    "     data_types[str(entry.dataType)].append(entry.name)\n",
    "categorical_variables = len(data_types[\"StringType\"])\n",
    "print(\"Number of categorical variables: {}\\t Percentage: {:.2f}%\". format(categorical_variables, \\\n",
    "                                                                      100*(categorical_variables/len(hist_data.columns))))\n",
    "numerical_variables = len(data_types[\"IntegerType\"])\n",
    "print(\"Number of numerical variables: {}\\t Percentage: {:.2f}%\". format(numerical_variables, \\\n",
    "                                                                    100*(numerical_variables/len(hist_data.columns))))\n",
    "fig, ax = plt.subplots(categorical_variables-2,1, figsize=(7,90))\n",
    "\n",
    "for i, categorical_variable in enumerate(data_types[\"StringType\"][2:]):\n",
    "    aux = hist_data.select(categorical_variable).toPandas()\n",
    "    ax[i].bar(aux[categorical_variable].unique(), aux[categorical_variable].value_counts())\n",
    "    ax[i].set_title(categorical_variable)"
   ]
  },
  {
   "cell_type": "code",
   "execution_count": null,
   "metadata": {},
   "outputs": [],
   "source": [
    "aux1 = hist_data.select(\"number_outpatient\").toPandas()\n",
    "sns.kdeplot(aux1[\"number_outpatient\"], bw=1.5 , color=\"skyblue\", label=\"Number outpatient\")\n",
    "            \n",
    "aux2 = hist_data.select(\"number_emergency\").toPandas()\n",
    "sns.kdeplot( aux2[\"number_emergency\"], bw=1.5 , color=\"red\", label=\"Number emergency\")\n",
    "\n",
    "aux2 = hist_data.select(\"number_inpatient\").toPandas()\n",
    "sns.kdeplot( aux2[\"number_inpatient\"], bw=1.5 ,color=\"green\", label=\"Number inpatient\")"
   ]
  },
  {
   "cell_type": "code",
   "execution_count": null,
   "metadata": {},
   "outputs": [],
   "source": [
    "df.select(\"metformin\").distinct().rdd.map(lambda r: r[0]).collect()"
   ]
  },
  {
   "cell_type": "code",
   "execution_count": null,
   "metadata": {},
   "outputs": [],
   "source": []
  },
  {
   "cell_type": "code",
   "execution_count": null,
   "metadata": {},
   "outputs": [],
   "source": [
    "lr = LogisticRegression(maxIter=1000, regParam=0, elasticNetParam=0.8, featuresCol=\"features\", labelCol=\"readmitted\")\n",
    "model = lr.fit(train_hist_trunc)\n",
    "\n",
    "evaluator = BinaryClassificationEvaluator(labelCol='readmitted')\n",
    "\n",
    "y_train_hist = model.transform(train_hist_trunc)\n",
    "train_accuracy = evaluator.evaluate(y_train_hist)\n",
    "print(\"Training accuracy: {:.2f}\".format(train_accuracy))\n",
    "\n",
    "y_val_hist = model.transform(val_hist_trunc)\n",
    "val_accuracy = evaluator.evaluate(y_val_hist)\n",
    "print(\"Validation accuracy: {:.2f}\".format(val_accuracy))\n",
    "\n",
    "y_test = model.transform(test_hist_trunc)\n",
    "test_accuracy = evaluator.evaluate(y_test)\n",
    "print(\"Test accuracy: {:.2f}\".format(test_accuracy))"
   ]
  },
  {
   "cell_type": "markdown",
   "metadata": {},
   "source": [
    "Add column with the result"
   ]
  },
  {
   "cell_type": "code",
   "execution_count": null,
   "metadata": {
    "scrolled": true
   },
   "outputs": [],
   "source": [
    "hist_data = hist_data.withColumn(\"Accuracy\", lit(test_accuracy))\n",
    "\n",
    "hist_data.printSchema()"
   ]
  },
  {
   "cell_type": "markdown",
   "metadata": {},
   "source": [
    "### Prediction data\n",
    "\n",
    "blablablablabla"
   ]
  },
  {
   "cell_type": "code",
   "execution_count": null,
   "metadata": {},
   "outputs": [],
   "source": [
    "pred_data.describe().show()"
   ]
  },
  {
   "cell_type": "code",
   "execution_count": null,
   "metadata": {},
   "outputs": [],
   "source": [
    "import seaborn as sns\n",
    "\n",
    "\n",
    "corr = pred_data.toPandas().corr(method='pearson', min_periods=1)\n",
    "sns.set(style=\"white\")\n",
    "# Generate a mask for the upper triangle\n",
    "mask = np.zeros_like(corr, dtype=np.bool)\n",
    "mask[np.triu_indices_from(mask)] = True\n",
    "# Set up the matplotlib figure\n",
    "f, ax = plt.subplots(figsize=(7, 5))\n",
    "# Generate a custom diverging colormap\n",
    "cmap = sns.diverging_palette(220, 10, as_cmap=True)\n",
    "# Draw the heatmap with the mask and correct aspect ratio\n",
    "sns.heatmap(corr, mask=mask, cmap=cmap, vmax=.3, center=0, square=True, linewidths=.5, cbar_kws={\"shrink\": .5}) \n"
   ]
  },
  {
   "cell_type": "code",
   "execution_count": null,
   "metadata": {},
   "outputs": [],
   "source": [
    "model = LinearSVC(labelCol='Class')\n",
    "paramGrid = ParamGridBuilder() \\\n",
    "        .addGrid(model.regParam, [1.0, 0.1, 0.01, 0.001, 0.0001, 0.0]) \\\n",
    "        .build()\n",
    "evaluator = BinaryClassificationEvaluator(labelCol='Class')\n",
    "crossval = CrossValidator(estimator=model, estimatorParamMaps=paramGrid, evaluator=evaluator, parallelism=2, numFolds=5)\n",
    "\n",
    "# Run cross-validation, and choose the best set of parameters.\n",
    "cvModel = crossval.fit(train_pred_trunc)\n",
    "print(\"Regularization parameter: {}\".format(cvModel.bestModel._java_obj.getRegParam()))\n",
    "\n",
    "y_train_pred = cvModel.transform(train_pred_trunc)\n",
    "train_accuracy = evaluator.evaluate(y_train_pred)\n",
    "print(\"Training accuracy: {:.2f}\".format(train_accuracy))\n",
    "\n",
    "y_val_pred = cvModel.transform(val_pred_trunc)\n",
    "val_accuracy = evaluator.evaluate(y_val_pred)\n",
    "print(\"Validation accuracy: {:.2f}\".format(val_accuracy))\n",
    "\n",
    "### Final model\n",
    "model = LinearSVC(labelCol='Class', regParam=cvModel.bestModel._java_obj.getRegParam()).fit(train_predC_trunc)\n",
    "y_test = model.transform(test_pred_trunc)\n",
    "test_accuracy = evaluator.evaluate(y_test)\n",
    "print(\"Test accuracy: {:.2f}\".format(test_accuracy))"
   ]
  },
  {
   "cell_type": "code",
   "execution_count": null,
   "metadata": {},
   "outputs": [],
   "source": [
    "pred_data = pred_data.withColumn(\"Accuracy\", lit(test_accuracy))\n",
    "pred_data.show()"
   ]
  },
  {
   "cell_type": "markdown",
   "metadata": {},
   "source": [
    "### Analysis data\n",
    "\n",
    "blablablablabla"
   ]
  },
  {
   "cell_type": "code",
   "execution_count": null,
   "metadata": {},
   "outputs": [],
   "source": []
  },
  {
   "cell_type": "markdown",
   "metadata": {},
   "source": [
    "# Indexing data into elasticsearch"
   ]
  },
  {
   "cell_type": "code",
   "execution_count": null,
   "metadata": {},
   "outputs": [],
   "source": [
    "myHost = \"192.168.146.131\"\n",
    "\n",
    "es = Elasticsearch([{\"host\": myHost,\"port\":9200}]) # Connect to the elastic cluster\n",
    "print(es)\n",
    "\n",
    "def uploadToES(indexName, indexBody, docType=None, requestBody=None, verbose=True):\n",
    "    if (es.indices.exists(indexName)==False): \n",
    "        es.indices.create(index=indexName, body=requestBody)\n",
    "        if(verbose): print(\"creating {} index...\".format(indexName))\n",
    "    es.index(index=indexName,doc_type=docType, body=indexBody) # Store the document in Elasticsearch\n",
    "    if(verbose): print(\"adding document {} to {} index...\".format(indexBody, indexName))"
   ]
  },
  {
   "cell_type": "code",
   "execution_count": null,
   "metadata": {},
   "outputs": [],
   "source": [
    "aux=hist_data.limit(200).toPandas()\n",
    "for i in range(0, aux.shape[0]):\n",
    "    body=aux.iloc[i].to_json(orient=\"index\", date_format='iso')\n",
    "    uploadToES(\"tfm-marta-historical-data\", body)\n",
    "\n",
    "\n",
    "aux=pred_data.toPandas()\n",
    "for i in range(0, aux.shape[0]):\n",
    "    body=aux.iloc[i].to_json(orient=\"index\", date_format='iso')\n",
    "    uploadToES(\"tfm-marta-prediction-data\", body)\n",
    "    \n",
    "# an_requestBody = {\n",
    "#     \"mappings\": {\n",
    "#         \"properties\": {\n",
    "#             \"date\": {\"type\": \"date\", \"format\":\"yyyy-MM-dd HH:mm || yyyy-MM-dd || epoch_millis\", \"ignore_malformed\":True},\n",
    "#             \"code\": {\"type\": \"keyword\"},\n",
    "#             \"value\":{\"type\": \"long\"}\n",
    "#         }\n",
    "#     }\n",
    "# }\n",
    "\n",
    "aux=an_data.toPandas()    \n",
    "for j in range(0, aux.shape[0]):   \n",
    "    body=aux.iloc[j].to_json(orient=\"index\", date_format='iso')\n",
    "    uploadToES(\"tfm-marta-analysis-data\", body)"
   ]
  }
 ],
 "metadata": {
  "kernelspec": {
   "display_name": "Python 3",
   "language": "python",
   "name": "python3"
  },
  "language_info": {
   "codemirror_mode": {
    "name": "ipython",
    "version": 3
   },
   "file_extension": ".py",
   "mimetype": "text/x-python",
   "name": "python",
   "nbconvert_exporter": "python",
   "pygments_lexer": "ipython3",
   "version": "3.7.6"
  }
 },
 "nbformat": 4,
 "nbformat_minor": 4
}
